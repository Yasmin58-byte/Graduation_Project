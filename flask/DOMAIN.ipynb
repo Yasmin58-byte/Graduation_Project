{
 "cells": [
  {
   "cell_type": "code",
   "execution_count": 2,
   "id": "9d26b7a4",
   "metadata": {},
   "outputs": [],
   "source": [
    "# Step 1: Data Cleaning and Preprocessing\n",
    "import pandas as pd\n",
    "from sklearn.preprocessing import LabelEncoder\n",
    "# Load data\n",
    "df = pd.read_excel('project.xlsx')\n",
    "\n",
    "# Drop rows with missing values\n",
    "df.dropna(inplace=True)\n",
    "\n",
    "# Encode 'Domain' into numerical labels\n",
    "label_encoder = LabelEncoder()\n",
    "df['Domain'] = label_encoder.fit_transform(df['Domain'])\n",
    "\n"
   ]
  },
  {
   "cell_type": "code",
   "execution_count": 3,
   "id": "f63a7d0a",
   "metadata": {},
   "outputs": [],
   "source": [
    "# Concatenate text data\n",
    "df['text'] = df['Name'] + ' ' + df['Description'] + ' ' + df['Column Names'] + ' ' + df['Keywords'] \n",
    "\n",
    "# Convert to lowercase\n",
    "df['processed'] = df['text']\n"
   ]
  },
  {
   "cell_type": "code",
   "execution_count": 4,
   "id": "0a1a5c25",
   "metadata": {},
   "outputs": [
    {
     "name": "stderr",
     "output_type": "stream",
     "text": [
      "Some weights of BertForSequenceClassification were not initialized from the model checkpoint at bert-base-uncased and are newly initialized: ['classifier.bias', 'classifier.weight']\n",
      "You should probably TRAIN this model on a down-stream task to be able to use it for predictions and inference.\n",
      "C:\\Users\\Dell\\AppData\\Roaming\\Python\\Python39\\site-packages\\transformers\\optimization.py:521: FutureWarning: This implementation of AdamW is deprecated and will be removed in a future version. Use the PyTorch implementation torch.optim.AdamW instead, or set `no_deprecation_warning=True` to disable this warning\n",
      "  warnings.warn(\n"
     ]
    }
   ],
   "source": [
    "# Step 3: Model Training\n",
    "from sklearn.model_selection import train_test_split\n",
    "import torch\n",
    "import torch.nn as nn\n",
    "from transformers import BertTokenizer, BertForSequenceClassification, AdamW\n",
    "\n",
    "# Split data into train and test sets\n",
    "X_train, X_test, y_train, y_test = train_test_split(df['processed'], df['Domain'], test_size=0.2, random_state=42)\n",
    "\n",
    "# Load BERT tokenizer and model\n",
    "tokenizer = BertTokenizer.from_pretrained('bert-base-uncased')\n",
    "model = BertForSequenceClassification.from_pretrained('bert-base-uncased', num_labels=len(label_encoder.classes_))\n",
    "\n",
    "# Tokenize input data\n",
    "X_train_tokens = tokenizer(list(X_train), padding=True, truncation=True, max_length=256, return_tensors='pt')\n",
    "X_test_tokens = tokenizer(list(X_test), padding=True, truncation=True, max_length=256, return_tensors='pt')\n",
    "\n",
    "# Convert labels to tensor\n",
    "y_train_tensor = torch.tensor(list(y_train))\n",
    "y_test_tensor = torch.tensor(list(y_test))\n",
    "\n",
    "# Fine-tuning BERT model\n",
    "device = torch.device('cuda' if torch.cuda.is_available() else 'cpu')\n",
    "model.to(device)\n",
    "optimizer = AdamW(model.parameters(), lr=5e-05)"
   ]
  },
  {
   "cell_type": "code",
   "execution_count": 5,
   "id": "7d4674be",
   "metadata": {},
   "outputs": [
    {
     "name": "stdout",
     "output_type": "stream",
     "text": [
      "Epoch 1, Loss: 0.013412313535809517\n",
      "Epoch 2, Loss: 0.004588530398905277\n",
      "Epoch 3, Loss: 0.02595432661473751\n"
     ]
    }
   ],
   "source": [
    "# Train the model\n",
    "model.train()\n",
    "\n",
    "# Define batch size\n",
    "batch_size = 8\n",
    "\n",
    "for epoch in range(3):  # Adjust the number of epochs as needed\n",
    "    optimizer.zero_grad()\n",
    "    for i in range(0, len(X_train_tokens['input_ids']), batch_size):\n",
    "        batch_input_ids = X_train_tokens['input_ids'][i:i+batch_size].to(device)\n",
    "        batch_attention_mask = X_train_tokens['attention_mask'][i:i+batch_size].to(device)\n",
    "        batch_labels = y_train_tensor[i:i+batch_size].unsqueeze(1).to(device)\n",
    "\n",
    "        outputs = model(input_ids=batch_input_ids, attention_mask=batch_attention_mask, labels=batch_labels)\n",
    "        loss = outputs.loss\n",
    "        loss.backward()\n",
    "        optimizer.step()\n",
    "        optimizer.zero_grad()\n",
    "\n",
    "    print(f'Epoch {epoch + 1}, Loss: {loss.item()}')"
   ]
  },
  {
   "cell_type": "code",
   "execution_count": 6,
   "id": "22db0e85",
   "metadata": {},
   "outputs": [
    {
     "name": "stdout",
     "output_type": "stream",
     "text": [
      "Accuracy: 0.9883333333333333\n",
      "              precision    recall  f1-score   support\n",
      "\n",
      "    Business       1.00      0.99      1.00       120\n",
      "   Economics       1.00      1.00      1.00       113\n",
      "   Education       1.00      0.95      0.97       112\n",
      "      Health       0.95      1.00      0.97       124\n",
      "      Sports       1.00      1.00      1.00       131\n",
      "\n",
      "    accuracy                           0.99       600\n",
      "   macro avg       0.99      0.99      0.99       600\n",
      "weighted avg       0.99      0.99      0.99       600\n",
      "\n"
     ]
    }
   ],
   "source": [
    "# Step 4: Model Evaluation\n",
    "from sklearn.metrics import accuracy_score, classification_report\n",
    "# Evaluation mode\n",
    "model.eval()\n",
    "\n",
    "# Predictions\n",
    "with torch.no_grad():\n",
    "    predictions = []\n",
    "    for i in range(0, len(X_test_tokens['input_ids']), batch_size):\n",
    "        batch_input_ids = X_test_tokens['input_ids'][i:i+batch_size].to(device)\n",
    "        batch_attention_mask = X_test_tokens['attention_mask'][i:i+batch_size].to(device)\n",
    "\n",
    "        outputs = model(input_ids=batch_input_ids, attention_mask=batch_attention_mask)\n",
    "        batch_predictions = torch.argmax(outputs.logits, dim=1).cpu().numpy()\n",
    "        predictions.extend(batch_predictions)\n",
    "\n",
    "# Calculate metrics\n",
    "accuracy = accuracy_score(y_test_tensor.cpu(), predictions)\n",
    "print(\"Accuracy:\", accuracy)\n",
    "print(classification_report(y_test_tensor.cpu(), predictions, target_names=label_encoder.classes_))"
   ]
  },
  {
   "cell_type": "code",
   "execution_count": 11,
   "id": "1aa139d7",
   "metadata": {},
   "outputs": [],
   "source": [
    "# Predict domain for new dataset info\n",
    "def predict_domain(dataset_info):\n",
    "    \n",
    "    # Tokenize input text\n",
    "    inputs = tokenizer(dataset_info, padding=True, truncation=True, max_length=256, return_tensors=\"pt\")\n",
    "\n",
    "    # Forward pass through the model\n",
    "    with torch.no_grad():\n",
    "        outputs = model(**inputs)\n",
    "\n",
    "    # Get predicted label\n",
    "    predicted_label_id = torch.argmax(outputs.logits).item()\n",
    "\n",
    "    # Decode predicted label\n",
    "    predicted_domain = label_encoder.inverse_transform([predicted_label_id])\n",
    "\n",
    "    return predicted_domain[0]\n"
   ]
  },
  {
   "cell_type": "code",
   "execution_count": 12,
   "id": "733f50f9",
   "metadata": {},
   "outputs": [
    {
     "name": "stdout",
     "output_type": "stream",
     "text": [
      "Predicted Domain: Economics\n"
     ]
    }
   ],
   "source": [
    "# Example usage\n",
    "new_dataset_info = \"Economic indicators from various countries, including GDP, inflation rate, and unemployment rate., Economics, global indicators, Country, Year, GDP, Inflation Rate, Unemployment Rate, Trade Balance, Currency, Global Economic Indicators\"\n",
    "predicted_domain = predict_domain(new_dataset_info)\n",
    "print(\"Predicted Domain:\", predicted_domain)"
   ]
  },
  {
   "cell_type": "code",
   "execution_count": null,
   "id": "a73bf545",
   "metadata": {},
   "outputs": [],
   "source": [
    "import os\n",
    "\n",
    "# Save the model\n",
    "model.save_pretrained(\"bert_model\")\n",
    "\n",
    "# Create a directory for tokenizer files\n",
    "os.makedirs(\"bert_model_tokenizer\", exist_ok=True)\n",
    "\n",
    "# Save the tokenizer\n",
    "tokenizer.save_pretrained(\"bert_model_tokenizer\")"
   ]
  },
  {
   "cell_type": "code",
   "execution_count": 14,
   "id": "f44e4b34",
   "metadata": {},
   "outputs": [
    {
     "data": {
      "text/plain": [
       "['label_encoder.pkl']"
      ]
     },
     "execution_count": 14,
     "metadata": {},
     "output_type": "execute_result"
    }
   ],
   "source": [
    "import joblib\n",
    "joblib.dump(label_encoder, 'label_encoder.pkl')"
   ]
  }
 ],
 "metadata": {
  "kernelspec": {
   "display_name": "Python 3",
   "language": "python",
   "name": "python3"
  },
  "language_info": {
   "codemirror_mode": {
    "name": "ipython",
    "version": 3
   },
   "file_extension": ".py",
   "mimetype": "text/x-python",
   "name": "python",
   "nbconvert_exporter": "python",
   "pygments_lexer": "ipython3",
   "version": "3.9.4"
  }
 },
 "nbformat": 4,
 "nbformat_minor": 5
}
